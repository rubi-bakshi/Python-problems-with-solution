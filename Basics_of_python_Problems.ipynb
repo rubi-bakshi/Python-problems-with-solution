{
  "cells": [
    {
      "cell_type": "markdown",
      "metadata": {
        "id": "e2CWWATVTFOQ"
      },
      "source": [
        "# Practice Exercise"
      ]
    },
    {
      "cell_type": "markdown",
      "metadata": {
        "id": "gxSUV29HVelr"
      },
      "source": [
        "##### Question 1: Swapping\n",
        "\n",
        "You are given two integer variables,  x and y. You have to swap the values stored in x and y."
      ]
    },
    {
      "cell_type": "code",
      "execution_count": null,
      "metadata": {
        "id": "Ch5OM30SCoUr",
        "outputId": "ec455217-b6cd-432f-f759-c699a8ce2300"
      },
      "outputs": [
        {
          "name": "stdout",
          "output_type": "stream",
          "text": [
            "Enter the numbers:12,34\n",
            "x before swapping: 12\n",
            "y before swapping: 34\n",
            "x after swapping: 34\n",
            "y after swapping: 12\n"
          ]
        }
      ],
      "source": [
        "# Take input using input()\n",
        "in_string  = input(\"Enter the numbers separated by coma:\")\n",
        "\n",
        "#here extract the two numbers from the string\n",
        "mylist = in_string.split(',')\n",
        "x = int(mylist[0])\n",
        "y = int(mylist[1])\n",
        "\n",
        "#print x and y before swapping\n",
        "print(\"x before swapping:\",x)\n",
        "print(\"y before swapping:\",y)\n",
        "\n",
        "x= x+y\n",
        "y= x-y\n",
        "x= x-y\n",
        "\n",
        "#print x and y after swapping\n",
        "print(\"x after swapping:\",x)\n",
        "print(\"y after swapping:\",y)"
      ]
    },
    {
      "cell_type": "markdown",
      "metadata": {
        "id": "Ys8qEL-HTMA1"
      },
      "source": [
        "##### Question 2: Even Or Odd\n",
        "Given an integer, print whether it is Even or Odd."
      ]
    },
    {
      "cell_type": "code",
      "execution_count": null,
      "metadata": {
        "id": "ypmiTaqjSu_C",
        "outputId": "aaa881bf-8d28-4cdf-d91b-8caf5dc032c6"
      },
      "outputs": [
        {
          "name": "stdout",
          "output_type": "stream",
          "text": [
            "3459\n",
            "Odd\n"
          ]
        }
      ],
      "source": [
        "#Take input from user\n",
        "num=int(input())\n",
        "\n",
        "#start writing your code from here\n",
        "if num%2 == 0:\n",
        "    print(\"Even\")\n",
        "else:\n",
        "    print (\"Odd\")"
      ]
    },
    {
      "cell_type": "markdown",
      "metadata": {
        "id": "SCtZJrEjUyLV"
      },
      "source": [
        "##### Question 3:\n",
        "Find the highest no, among given nos"
      ]
    },
    {
      "cell_type": "code",
      "execution_count": null,
      "metadata": {
        "scrolled": true,
        "id": "VXxpUjUTCoUt",
        "outputId": "3ea0930d-4236-4f2b-8757-ce1a96aa6faa"
      },
      "outputs": [
        {
          "name": "stdout",
          "output_type": "stream",
          "text": [
            "Enter first no: 45\n",
            "Enter second no: 67\n",
            "Enter third no: 89\n",
            "highest no is: 89\n"
          ]
        }
      ],
      "source": [
        "#Take input from user\n",
        "\n",
        "a= int(input(\"Enter first no: \"))\n",
        "b= int(input(\"Enter second no: \"))\n",
        "c= int(input(\"Enter third no: \"))\n",
        "max= a\n",
        "if max<b:\n",
        "   max= b\n",
        "if max<c:\n",
        "   max= c\n",
        "print(\"highest no is:\", max)"
      ]
    },
    {
      "cell_type": "markdown",
      "metadata": {
        "id": "g7mX3aiWCoUt"
      },
      "source": [
        "##### Question 4:\n",
        "Write A program to accept Four digit number from user and count zero , odd and even digits presents in the entered number.\n"
      ]
    },
    {
      "cell_type": "code",
      "execution_count": null,
      "metadata": {
        "id": "cUPlcQZYCoUt",
        "outputId": "0248b599-8248-4e5d-cbe9-44a399f6045b"
      },
      "outputs": [
        {
          "name": "stdout",
          "output_type": "stream",
          "text": [
            "Enter a 4 digit number 5670\n",
            "Numbers of Zeros = 1 , Even = 1 , Odd = 2\n"
          ]
        }
      ],
      "source": [
        "#take input from user\n",
        "num = input(\"Enter a 4 digit number \")\n",
        "count_zero= 0\n",
        "count_odd= 0\n",
        "count_even= 0\n",
        "\n",
        "num_length= len(num)\n",
        "\n",
        "if num_length==4:\n",
        "    for digit in num:\n",
        "        if int(digit)==0:\n",
        "            count_zero= count_zero+1\n",
        "        elif int(digit)%2==0:\n",
        "            count_even = count_even+1\n",
        "        else:\n",
        "            count_odd +=1\n",
        "        #elif int(digit)%2!=0:\n",
        "            #count_odd+=1\n",
        "    print(\"Numbers of Zeros = {} , Even = {} , Odd = {}\".format(count_zero,count_even,count_odd))\n",
        "else:\n",
        "    print(\"Sorry! Not a 4 digit number\")"
      ]
    },
    {
      "cell_type": "markdown",
      "metadata": {
        "id": "AbjU7tdxCoUt"
      },
      "source": [
        "#### Question 5:\n",
        "Write a program to accept ‘n’ numbers from user , store these numbers into an list. Find out maximum and minimum number from an list."
      ]
    },
    {
      "cell_type": "code",
      "execution_count": null,
      "metadata": {
        "id": "COQ5GzcWCoUu",
        "outputId": "1f7bb622-129c-4234-95ee-eff2a218a5ba"
      },
      "outputs": [
        {
          "name": "stdout",
          "output_type": "stream",
          "text": [
            "Enter the no present in the list 4\n",
            "Enter the values 560\n",
            "Enter the values 89\n",
            "Enter the values 78\n",
            "Enter the values 67\n",
            "[560, 89, 78, 67]\n",
            "Minimum Value of array : 67\n",
            "Maximum Value of array : 560\n"
          ]
        }
      ],
      "source": [
        "#takes the i/p from user\n",
        "given_list= []\n",
        "n= int(input(\"Enter the no present in the list \"))\n",
        "\n",
        "#create the list with no of elements entered by user\n",
        "for i in range(0,n):\n",
        "    new_list = int(input(\"Enter the values \"))\n",
        "    given_list.append(new_list)\n",
        "\n",
        "print(given_list)\n",
        "min_list = min(given_list)\n",
        "max_list = max(given_list)\n",
        "\n",
        "print(\"Minimum Value of array : {}\".format(min_list))\n",
        "print(\"Maximum Value of array : {}\".format(max_list))"
      ]
    },
    {
      "cell_type": "markdown",
      "metadata": {
        "id": "vYlImwlHCoUu"
      },
      "source": [
        "##### Question 6:\n",
        "Find the factorial of gven number"
      ]
    },
    {
      "cell_type": "code",
      "execution_count": null,
      "metadata": {
        "id": "83kRykCDCoUu",
        "outputId": "917620cf-d0d7-472b-8f16-7205e403c5ed"
      },
      "outputs": [
        {
          "name": "stdout",
          "output_type": "stream",
          "text": [
            "Enter the num 290\n",
            "factorial is: 60316116183878209766117976235613285674586630483425933084029202472047670485819885245164731849642810548475941525840095286214179522721593990128930118982329294365767928511440729849320802184711774330495375545958604447485894133813040753046757845833254416671760299033093062086252031499964109155039154660288221882477747977319966161835146771580496981591719779344293705580123767115637822100135690925946157620356054977604029114048086866036189530542932814283520706747909108718372525130923228359166396038270919098494331151103662489600000000000000000000000000000000000000000000000000000000000000000000000\n"
          ]
        }
      ],
      "source": [
        "def findFactorial(n):\n",
        "    if n<0:\n",
        "        return -1\n",
        "    elif n==0:\n",
        "        return 1\n",
        "    else:\n",
        "        r=1\n",
        "        while(n>0):\n",
        "            r= r*n\n",
        "            n= n-1\n",
        "        return r\n",
        "\n",
        "num = int(input(\"Enter the num \"))\n",
        "k= findFactorial(num)\n",
        "print(\"factorial is: {}\".format(k))\n"
      ]
    },
    {
      "cell_type": "markdown",
      "metadata": {
        "id": "b2Zg1lA5CoUu"
      },
      "source": [
        "##### Question: 7\n",
        "Write a program to calculate the sum of first digit and last digit of a given number"
      ]
    },
    {
      "cell_type": "code",
      "execution_count": null,
      "metadata": {
        "id": "38GJF_OlCoUu",
        "outputId": "157d3679-77eb-44a7-bb3d-03cb0a4cc85d"
      },
      "outputs": [
        {
          "name": "stdout",
          "output_type": "stream",
          "text": [
            "Enter the number 5678\n",
            "sum of 1st and last digit of given num is:13\n"
          ]
        }
      ],
      "source": [
        "num= input(\"Enter the number \")\n",
        "firstDigit =int(num[0])\n",
        "lastdigit = int(num[-1])\n",
        "finalSum= firstDigit+lastdigit\n",
        "print(\"sum of 1st and last digit of given num is:{}\".format(finalSum))"
      ]
    },
    {
      "cell_type": "code",
      "execution_count": null,
      "metadata": {
        "id": "NkigJ429CoUu",
        "outputId": "66d50d6a-9f8a-48ad-8288-b2ec8917b516"
      },
      "outputs": [
        {
          "name": "stdout",
          "output_type": "stream",
          "text": [
            "Enter the number 456789\n",
            "sum of 1st and last digit of given num is:13\n"
          ]
        }
      ],
      "source": [
        "#alternate method\n",
        "num= int(input(\"Enter the number \"))\n",
        "lastDigit = num%10\n",
        "#result=num%10\n",
        "while num > 9:\n",
        "    num = num//10\n",
        "result = lastDigit+num\n",
        "#result+= num\n",
        "print(\"sum of 1st and last digit of given num is:{}\".format(result))"
      ]
    },
    {
      "cell_type": "markdown",
      "metadata": {
        "id": "vb7PwdmYCoUu"
      },
      "source": [
        "#### Question:8\n",
        "Write a program to calculate the sum of digits of a given number."
      ]
    },
    {
      "cell_type": "code",
      "execution_count": null,
      "metadata": {
        "id": "-rO0QYNMCoUu",
        "outputId": "63558da2-8c19-41a3-ba0d-89cea71df953"
      },
      "outputs": [
        {
          "name": "stdout",
          "output_type": "stream",
          "text": [
            "Enter the number: 456\n",
            "15\n"
          ]
        }
      ],
      "source": [
        "def getSumofDigits(num):\n",
        "    sum = 0\n",
        "    while num>0:\n",
        "        sum= sum + int(num%10)\n",
        "        num= int(num/10)\n",
        "\n",
        "    return sum\n",
        "num = int(input(\"Enter the number: \"))\n",
        "#print(\"Sum of the digits of number : {}\".format(getSumofDigits(num)))\n",
        "print(getSumofDigits(num))"
      ]
    },
    {
      "cell_type": "markdown",
      "metadata": {
        "id": "YM9HjbspCoUu"
      },
      "source": [
        "##### Question:9\n",
        "Write a program to accept a string value from the user and accept a char value from the user and and find out the total occurrence of char value in the string value."
      ]
    },
    {
      "cell_type": "code",
      "execution_count": null,
      "metadata": {
        "id": "aDlTpZQiCoUu",
        "outputId": "772d9ceb-0caa-4588-bc7c-39b0345b7261"
      },
      "outputs": [
        {
          "name": "stdout",
          "output_type": "stream",
          "text": [
            "Enter a string: i love my india\n",
            "Enter a char: i\n",
            "count of i in the string i love my india is: 3 \n"
          ]
        }
      ],
      "source": [
        "givenString = input(\"Enter a string: \")\n",
        "givenChar = input(\"Enter a char: \")\n",
        "count = 0\n",
        "for char in givenString:\n",
        "    if char == givenChar:\n",
        "        count +=1\n",
        "    else:\n",
        "        count\n",
        "print(\"count of {} in the string {} is: {} \".format(givenChar,givenString,count))"
      ]
    },
    {
      "cell_type": "markdown",
      "metadata": {
        "id": "nOcTxbRgCoUv"
      },
      "source": [
        "##### Question 10:\n",
        "This will find if a given string is palindrom or not"
      ]
    },
    {
      "cell_type": "code",
      "execution_count": null,
      "metadata": {
        "id": "FrYRKhAgCoUv",
        "outputId": "3d66110c-aff5-41cd-ed90-a0c512b99905"
      },
      "outputs": [
        {
          "name": "stdout",
          "output_type": "stream",
          "text": [
            "Enter the string: king\n",
            "It's not\n"
          ]
        }
      ],
      "source": [
        "def isPalindrome(givenString):\n",
        "    if givenString == givenString[::-1]:\n",
        "        return True\n",
        "    return False\n",
        "\n",
        "#converting to lower case as python is case sensitive\n",
        "givenString = input(\"Enter the string: \").lower()\n",
        "res = isPalindrome(givenString)\n",
        "if (res):\n",
        "    print(\"{} is a palindrome\".format(givenString))\n",
        "else:\n",
        "    print(\"It's not\")"
      ]
    },
    {
      "cell_type": "markdown",
      "source": [
        "##### Question 10:\n",
        "This will Find If a given sentence is palindrom"
      ],
      "metadata": {
        "id": "ekuXWpR2hWfr"
      }
    },
    {
      "cell_type": "code",
      "source": [],
      "metadata": {
        "id": "hW0_YgiDhcGr"
      },
      "execution_count": null,
      "outputs": []
    },
    {
      "cell_type": "markdown",
      "source": [
        "Question 11:\n",
        "function will find first non repeated element using collection or linked hashmap."
      ],
      "metadata": {
        "id": "QpIFBCLYhgth"
      }
    },
    {
      "cell_type": "code",
      "source": [],
      "metadata": {
        "id": "VHz9vC2NhkLl"
      },
      "execution_count": null,
      "outputs": []
    },
    {
      "cell_type": "markdown",
      "source": [
        "Question 11:\n",
        "Function will find first non repeated element using normal for loop"
      ],
      "metadata": {
        "id": "cApiRy3_hqQA"
      }
    },
    {
      "cell_type": "code",
      "source": [],
      "metadata": {
        "id": "ci2aSeezhrMc"
      },
      "execution_count": null,
      "outputs": []
    },
    {
      "cell_type": "markdown",
      "metadata": {
        "id": "Dxs3TZETCoUv"
      },
      "source": [
        "##### Question 11:\n",
        "Given a string. add \"*\" in alternate index"
      ]
    },
    {
      "cell_type": "code",
      "execution_count": null,
      "metadata": {
        "id": "EfHUAU29CoUv",
        "outputId": "d2cc597d-d2c5-4c6b-d7bd-f0636bb66da1"
      },
      "outputs": [
        {
          "name": "stdout",
          "output_type": "stream",
          "text": [
            "r*u*b*i\n"
          ]
        }
      ],
      "source": [
        "test_str = \"rubi\"\n",
        "k = \"*\"\n",
        "result = \"\"\n",
        "for i in range(0, len(test_str)):\n",
        "    result += test_str[i]+k\n",
        "result = result[:-1]\n",
        "print(result)"
      ]
    },
    {
      "cell_type": "markdown",
      "metadata": {
        "id": "A3_yuXtrCoUv"
      },
      "source": [
        "##### Question 12:\n",
        "sort dictionary by value"
      ]
    },
    {
      "cell_type": "code",
      "execution_count": null,
      "metadata": {
        "colab": {
          "base_uri": "https://localhost:8080/"
        },
        "id": "CPNsBiZlCoUv",
        "outputId": "4db2500f-ebec-4103-8a2e-e5d1bd924c37"
      },
      "outputs": [
        {
          "output_type": "stream",
          "name": "stdout",
          "text": [
            "[('Kane', 43), ('Tina', 54), ('Tom', 67), ('Divya', 73), ('Akbar', 87)]\n",
            "{'Akbar': 87, 'Divya': 73, 'Kane': 43, 'Tina': 54, 'Tom': 67}\n"
          ]
        }
      ],
      "source": [
        "#Sort the given dict\n",
        "\n",
        "members = {\"Tom\":67, \"Tina\": 54, \"Akbar\": 87, \"Kane\": 43, \"Divya\":73}\n",
        "sorted_byValue = sorted(members.items(), key=lambda x: x[1])\n",
        "sorted_byKeys = sorted(members.items(),  key = lambda x: x[0])\n",
        "#sorted_dict = {k: v for k, v in sorted_tuples}\n",
        "#print(sorted_dict)\n",
        "\n",
        "#sorted_byValue = dict(sorted_byValue)\n",
        "print(sorted_byValue)\n",
        "sorted_byKeys = dict(sorted_byKeys)\n",
        "print(sorted_byKeys)"
      ]
    },
    {
      "cell_type": "markdown",
      "metadata": {
        "id": "K0h5r3Q5CoUv"
      },
      "source": [
        "##### Question 13 :\n",
        "create separate list with dictionary key and values"
      ]
    },
    {
      "cell_type": "code",
      "execution_count": null,
      "metadata": {
        "colab": {
          "base_uri": "https://localhost:8080/"
        },
        "id": "cjDIRyQwCoUv",
        "outputId": "42d04b21-b2ff-454b-f1b8-d5d97edde978"
      },
      "outputs": [
        {
          "output_type": "stream",
          "name": "stdout",
          "text": [
            "['Tom', 'Tina', 'Akbar', 'Kane', 'Divya'] [67, 54, 87, 43, 73]\n"
          ]
        }
      ],
      "source": [
        "## NB: items() returns list of tuple\n",
        "\n",
        "#given dict\n",
        "members = {\"Tom\":67, \"Tina\": 54, \"Akbar\": 87, \"Kane\": 43, \"Divya\":73}\n",
        "\n",
        "# declare 2 separate list for keys and values\n",
        "keysList=[]\n",
        "values=[]\n",
        "\n",
        "#iterate through each items of dict. else without \"items()\" by default dict considers its keys not values\n",
        "for item in members.items():\n",
        "     keysList.append(item[0])\n",
        "     values.append(item[1])\n",
        "print(keysList,values)"
      ]
    },
    {
      "cell_type": "markdown",
      "source": [
        "##### Question 14 :\n",
        "\n",
        "Input: test_list = [4, 6, 6, 4, 2, 2, 4, 8, 5, 8]\n",
        "\n",
        "Output: {4: [4, 4, 4], 6: [6, 6], 2: [2, 2], 8: [8, 8], 5: [5]}"
      ],
      "metadata": {
        "id": "yer9j6DSPCh3"
      }
    },
    {
      "cell_type": "code",
      "source": [
        "test_list = [4, 6, 6, 4, 2, 2, 4, 8, 5, 8]\n",
        "#using set() to get unique elements in list\n",
        "unique_keys =set(test_list)\n",
        "\n",
        "#creating dictionary with empty lists as values (dict comprehension)\n",
        "res = {key: [] for key in unique_keys}\n",
        "\n",
        "# using list comprehension to group similar items\n",
        "[res[item].append(item) for item in test_list]\n",
        "res"
      ],
      "metadata": {
        "colab": {
          "base_uri": "https://localhost:8080/"
        },
        "id": "HnQSKgQrPEMJ",
        "outputId": "da77a07c-85d3-4d1a-d814-88b592a82fef"
      },
      "execution_count": null,
      "outputs": [
        {
          "output_type": "execute_result",
          "data": {
            "text/plain": [
              "{2: [2, 2], 4: [4, 4, 4], 5: [5], 6: [6, 6], 8: [8, 8]}"
            ]
          },
          "metadata": {},
          "execution_count": 2
        }
      ]
    },
    {
      "cell_type": "markdown",
      "metadata": {
        "id": "jkhK09tACoUv"
      },
      "source": [
        "#### Question 15:\n",
        "separate digits and alphabets from given string"
      ]
    },
    {
      "cell_type": "code",
      "execution_count": null,
      "metadata": {
        "id": "Q4qQQXqbCoUv",
        "outputId": "c63f3ff3-f8dc-48e6-c1b6-072265056bbd"
      },
      "outputs": [
        {
          "name": "stdout",
          "output_type": "stream",
          "text": [
            "['344321', 'Geeks']\n"
          ]
        }
      ],
      "source": [
        "#separate digits and alphabets from given string\n",
        "test_str = \"Ge34eks4321\"\n",
        "digits = \"\"\n",
        "alphabets = \"\"\n",
        "res =[]\n",
        "for letter in test_str:\n",
        "    if (letter.isdigit()):\n",
        "        digits += letter\n",
        "    else:\n",
        "        alphabets += letter\n",
        "res.append(digits)\n",
        "res.append(alphabets)\n",
        "print(res)"
      ]
    },
    {
      "cell_type": "markdown",
      "metadata": {
        "id": "7UIkjWR3CoUv"
      },
      "source": [
        "###### Question 16:\n",
        "print a list consists of alternate elemets of actual one"
      ]
    },
    {
      "cell_type": "code",
      "execution_count": null,
      "metadata": {
        "id": "MLvsEO9FCoUv",
        "outputId": "833d12bb-054a-46d4-dbbf-88adaccb86bf"
      },
      "outputs": [
        {
          "name": "stdout",
          "output_type": "stream",
          "text": [
            "original list:[1, 4, 6, 7, 9, 3, 5]\n",
            "[1, 6, 9, 5]\n"
          ]
        }
      ],
      "source": [
        "#List consists of alternate elements\n",
        "\n",
        "test_list = [1, 4, 6, 7, 9, 3, 5]\n",
        "print(\"original list:\"+ str(test_list))\n",
        "new_list = []\n",
        "for i in range(len(test_list)):\n",
        "    if i%2 == 0:\n",
        "        new_list.append(test_list[i])\n",
        "print(new_list)"
      ]
    },
    {
      "cell_type": "code",
      "execution_count": null,
      "metadata": {
        "id": "YjOR4q8KCoUv",
        "outputId": "4542f2b6-5340-4db0-b155-4980bb8d5f00"
      },
      "outputs": [
        {
          "name": "stdout",
          "output_type": "stream",
          "text": [
            "original list:[1, 4, 6, 7, 9, 3, 5]\n",
            "[1, 6, 9, 5]\n"
          ]
        }
      ],
      "source": [
        "#alternate method using numpy\n",
        "\n",
        "#importing numpy library\n",
        "import numpy as np\n",
        "\n",
        "test_list = [1, 4, 6, 7, 9, 3, 5]\n",
        "print(\"original list:\"+ str(test_list))\n",
        "res = np.array(test_list)[0::2].tolist()\n",
        "\n",
        "print(res)"
      ]
    },
    {
      "cell_type": "markdown",
      "metadata": {
        "id": "dBf1hQwACoUv"
      },
      "source": [
        "###### Question 17:\n",
        "Multiplying alternate elemnets and stored in a new list"
      ]
    },
    {
      "cell_type": "code",
      "execution_count": null,
      "metadata": {
        "id": "YuC3T_YdCoUv",
        "outputId": "b376ec93-f173-4efe-b3d3-4f661e5a8766"
      },
      "outputs": [
        {
          "name": "stdout",
          "output_type": "stream",
          "text": [
            "original list:[1, 4, 6, 7, 9, 3, 5]\n",
            "[270, 84]\n"
          ]
        }
      ],
      "source": [
        "#given list\n",
        "test_list = [1, 4, 6, 7, 9, 3, 5]\n",
        "print(\"original list:\"+ str(test_list))\n",
        "\n",
        "result_list = [1,1]\n",
        "\n",
        "#checking the index if even/alternate\n",
        "for i in range(0,len(test_list)):\n",
        "    if i%2== 0:\n",
        "        result_list[0] = result_list[0]*test_list[i]\n",
        "    else:\n",
        "        result_list[1] *= test_list[i]\n",
        "\n",
        "print(result_list)"
      ]
    },
    {
      "cell_type": "markdown",
      "metadata": {
        "id": "sLMySicNCoUv"
      },
      "source": [
        "###### Question 18:\n",
        "Insert special character after every chararter pair"
      ]
    },
    {
      "cell_type": "code",
      "execution_count": null,
      "metadata": {
        "id": "9oniYyq6CoUv",
        "outputId": "0809f550-3c6c-4d6a-d108-41c28994b174"
      },
      "outputs": [
        {
          "name": "stdout",
          "output_type": "stream",
          "text": [
            "original string is: GeeksforGeeks\n",
            "Ge*ek*sf*or*Ge*ek*s\n"
          ]
        }
      ],
      "source": [
        "test_str = \"GeeksforGeeks\"\n",
        "print(\"original string is: \"+ test_str)\n",
        "res_str = \"\"\n",
        "separator =\"*\"\n",
        "\n",
        "for i in range (0,len(test_str),2):\n",
        "    res_str = res_str +test_str[i:i+2]+separator\n",
        "res_str = res_str[:-1]\n",
        "print(res_str)"
      ]
    },
    {
      "cell_type": "markdown",
      "metadata": {
        "id": "hXk-SXYOCoUv"
      },
      "source": [
        "##### Question 19:\n",
        "Insert given special character after every chararter"
      ]
    },
    {
      "cell_type": "code",
      "execution_count": null,
      "metadata": {
        "id": "BngH-bdYCoUv",
        "outputId": "50e149ec-fac7-4358-946b-99b87c2b8867"
      },
      "outputs": [
        {
          "name": "stdout",
          "output_type": "stream",
          "text": [
            "String after character addition : g*e*e*k*s*f*o*r*g*e*e*k*s\n"
          ]
        }
      ],
      "source": [
        "test_str = \"geeksforgeeks\"\n",
        "K = '*'\n",
        "res = ''\n",
        "for ele in test_str:\n",
        "    res += ele + K\n",
        "res = res[:-1]\n",
        "\n",
        "# printing result\n",
        "print(\"String after character addition : \" + str(res))"
      ]
    },
    {
      "cell_type": "code",
      "execution_count": null,
      "metadata": {
        "id": "gL8p-wlnCoUz",
        "outputId": "6971595e-985d-44b9-9571-5cc63610212a"
      },
      "outputs": [
        {
          "name": "stdout",
          "output_type": "stream",
          "text": [
            "Hire freelance developers\n"
          ]
        }
      ],
      "source": [
        "str_1 = \"Hire freelance developers\"\n",
        "\n",
        "print(str_1.strip())"
      ]
    },
    {
      "cell_type": "code",
      "execution_count": null,
      "metadata": {
        "id": "sJ6cjQrZCoUz"
      },
      "outputs": [],
      "source": []
    },
    {
      "cell_type": "code",
      "execution_count": null,
      "metadata": {
        "id": "cfFJ6NWjCoUz"
      },
      "outputs": [],
      "source": []
    },
    {
      "cell_type": "code",
      "execution_count": null,
      "metadata": {
        "id": "a-frjWEOCoUz",
        "outputId": "5009eb0a-d90a-4e9c-b416-e26eb5a7a6cf"
      },
      "outputs": [
        {
          "name": "stdout",
          "output_type": "stream",
          "text": [
            "[24, 35, 9, 56, 12]\n"
          ]
        }
      ],
      "source": [
        "????###swap the 1st and last element of a list\n",
        "def swapList(list):\n",
        "\n",
        "    first = list.pop(0)\n",
        "    last = list.pop(-1)\n",
        "\n",
        "    list.insert(0, last)\n",
        "    list.append(first)\n",
        "\n",
        "    return list\n",
        "\n",
        "# Driver code\n",
        "newList = [12, 35, 9, 56, 24]\n",
        "\n",
        "print(swapList(newList))\n"
      ]
    },
    {
      "cell_type": "code",
      "execution_count": null,
      "metadata": {
        "id": "UbZ6OvjRCoUz",
        "outputId": "b98d507d-d397-4cc0-9fdb-980b2f97af35"
      },
      "outputs": [
        {
          "ename": "TypeError",
          "evalue": "descriptor 'insert' for 'list' objects doesn't apply to a 'int' object",
          "output_type": "error",
          "traceback": [
            "\u001b[0;31m---------------------------------------------------------------------------\u001b[0m",
            "\u001b[0;31mTypeError\u001b[0m                                 Traceback (most recent call last)",
            "\u001b[0;32m/var/folders/mf/clw1xbl924sg30n_7yq6zn1r0000gq/T/ipykernel_13254/929198514.py\u001b[0m in \u001b[0;36m<module>\u001b[0;34m\u001b[0m\n\u001b[1;32m      3\u001b[0m \u001b[0mlast\u001b[0m \u001b[0;34m=\u001b[0m \u001b[0mlist\u001b[0m\u001b[0;34m[\u001b[0m\u001b[0;34m-\u001b[0m\u001b[0;36m1\u001b[0m\u001b[0;34m]\u001b[0m\u001b[0;34m\u001b[0m\u001b[0;34m\u001b[0m\u001b[0m\n\u001b[1;32m      4\u001b[0m \u001b[0;34m\u001b[0m\u001b[0m\n\u001b[0;32m----> 5\u001b[0;31m \u001b[0mlist\u001b[0m\u001b[0;34m.\u001b[0m\u001b[0minsert\u001b[0m\u001b[0;34m(\u001b[0m\u001b[0;36m0\u001b[0m\u001b[0;34m,\u001b[0m\u001b[0mlast\u001b[0m\u001b[0;34m)\u001b[0m\u001b[0;34m\u001b[0m\u001b[0;34m\u001b[0m\u001b[0m\n\u001b[0m\u001b[1;32m      6\u001b[0m \u001b[0mlist\u001b[0m\u001b[0;34m.\u001b[0m\u001b[0mappendd\u001b[0m\u001b[0;34m(\u001b[0m\u001b[0mfirst\u001b[0m\u001b[0;34m)\u001b[0m\u001b[0;34m\u001b[0m\u001b[0;34m\u001b[0m\u001b[0m\n\u001b[1;32m      7\u001b[0m \u001b[0;34m\u001b[0m\u001b[0m\n",
            "\u001b[0;31mTypeError\u001b[0m: descriptor 'insert' for 'list' objects doesn't apply to a 'int' object"
          ]
        }
      ],
      "source": [
        "newList = [12, 35, 9, 24]\n",
        "first = list[0]\n",
        "last = list[-1]\n",
        "\n",
        "list.insert(0,last)\n",
        "list.appendd(first)\n",
        "\n",
        "#list.insert(0, last)\n",
        "print(list.insert(0,last))"
      ]
    },
    {
      "cell_type": "code",
      "execution_count": null,
      "metadata": {
        "id": "wZMNfoLZCoUz",
        "outputId": "fa2ce4a7-e571-4051-d934-edb872f4de08"
      },
      "outputs": [
        {
          "name": "stdout",
          "output_type": "stream",
          "text": [
            "['Tom', 'Tina', 'Akbar', 'Kane', 'Divya'] [67, 54, 87, 43, 73]\n"
          ]
        }
      ],
      "source": [
        "\n"
      ]
    },
    {
      "cell_type": "markdown",
      "metadata": {
        "id": "DImK3bXbVQmK"
      },
      "source": [
        "##### Question 4: Print the pattern given below:\n",
        "\n",
        "\n",
        "\n",
        "![image.png](data:image/png;base64,iVBORw0KGgoAAAANSUhEUgAAADIAAABFCAYAAAAIGLXIAAACvklEQVRoBe1abW7DIAzljJF6oSpXSY/SHWQ/egxPgA3GfAwxEO3kSVP4NLz3TGInNfBP/sw/wQEK5N2UVEVUkUUMqGstInbYrCoyTN2iiarIImKHzaoiPdS9HgcYY+D86hn9tzGLFHnBdTNwPC44PxmIVcKr8PxsINFJFEjkorO06IzQ6qoIMdF9VUWaVH2d7vlhnyH8f+XzZLEiTbhTOxXIVDonGFNFJpA41YQqMpXOCcZUkQkkTjWhikAShhxwfTOCvy84eHhyu+DFukORxtX6w8DfC4OK2PD8hCfa97l5rMtln3cD5k6jqdenw+f9BLMPCG0Gr45ZoQob4oAKIK7NArDKfgYQZJ6/SeHA3weI32jmOvwMCcatqx0PPDXvAsT5v9go8ypfdKDwDMmNy3o2ua9h8LB74w4EO/T1Je3NwZ8hPydNuCj5+kviNQykHwRAONglpFsVofs/f1bYMt2ZnCsx1luutxVIidnNbcOutXnf2fIKJKNkc4MqslmAbHlVJKNkc4MqslmAbPmqIj7rY2FG6aNmEqrExKoWGMag0H8AomDRyMAzsdv3VbgJJOQMGX4An7PHzZeGhDaeSEGeaDngFKeB+MqVzA0Ws8IgELuZThCA0W+y0XQuT4VLkbIF2iQVoP7jTGuwOtmxdMKFPwhwLlKNcGMuQjQmKQC6EbkdB0XjS23UR9emItGHWYhuZ2KYHoFW0t1MDVo22jCYcIUe6UoINKQIYWBaqAJJh4mNlnKIUpv0dzTqFCEFM1LQFSnXuV3wbHkH2uwEIvwcXSt5U1UAUvJ3kIzbjTgw7fdi5HopwbHWBwTljca8QtK1Yt0uIO4+tGZmCyBRiMbh1fWFG4XoZNUKEHQlklf6sTOQPgtSEO3N0RkLZ5DcrMMu23tSrABJxnxERYG8m0yqiCqyiAF1rUXEDpv9AT7GtDRI+0oLAAAAAElFTkSuQmCC)\n",
        "\n",
        "# Print the pattern shown in the question above:"
      ]
    },
    {
      "cell_type": "markdown",
      "metadata": {
        "id": "wmEibYOCXoUV"
      },
      "source": []
    },
    {
      "cell_type": "code",
      "execution_count": null,
      "metadata": {
        "id": "ca4yCx9OXfyt",
        "outputId": "73fda521-e165-4f96-f8b9-9972e1763b03"
      },
      "outputs": [
        {
          "name": "stdout",
          "output_type": "stream",
          "text": [
            "###############\n"
          ]
        }
      ],
      "source": [
        "# Print the pattern shown in the question above:\n"
      ]
    },
    {
      "cell_type": "markdown",
      "metadata": {
        "id": "pCh5QAyGYdWe"
      },
      "source": [
        "Question 6: Take the user input of string and reverse the string"
      ]
    },
    {
      "cell_type": "code",
      "execution_count": null,
      "metadata": {
        "id": "uO-kTgb7XoJZ"
      },
      "outputs": [],
      "source": [
        "# Take the user input into a string:\n",
        "\n",
        "# Print the date:"
      ]
    },
    {
      "cell_type": "markdown",
      "metadata": {
        "id": "WzkRCuNYZOnp"
      },
      "source": [
        "Question 7: Type cast the interger 1.8 into a string and print the result."
      ]
    },
    {
      "cell_type": "code",
      "execution_count": null,
      "metadata": {
        "id": "tv7dzZX2YdFH"
      },
      "outputs": [],
      "source": [
        "# Store the interger as a varaible:\n",
        "\n",
        "# Typecast the integer:\n",
        "\n",
        "# Print the result:"
      ]
    },
    {
      "cell_type": "markdown",
      "metadata": {
        "id": "IP5LMF00bATM"
      },
      "source": [
        "Question 8: Find the product of two numbers input by the user."
      ]
    },
    {
      "cell_type": "code",
      "execution_count": null,
      "metadata": {
        "id": "_REzzqdwa3Gp",
        "outputId": "bb494d73-bd01-4783-e30d-4cbae163e719"
      },
      "outputs": [
        {
          "name": "stdout",
          "output_type": "stream",
          "text": [
            "Enter the numbers separated by coma:23,45\n"
          ]
        },
        {
          "data": {
            "text/plain": [
              "['23', '45']"
            ]
          },
          "execution_count": 31,
          "metadata": {},
          "output_type": "execute_result"
        }
      ],
      "source": [
        "# Take input using input()\n",
        "in_string  = input(\"Enter the numbers separated by coma:\")\n",
        "\n",
        "#here extract the two numbers from the string\n",
        "mylist = in_string.split(',')\n",
        "mylist"
      ]
    },
    {
      "cell_type": "markdown",
      "metadata": {
        "id": "041d-OjCcXt9"
      },
      "source": [
        "Question 9: Calculate the remainder of the number 6 when divided by the number 4."
      ]
    },
    {
      "cell_type": "code",
      "execution_count": null,
      "metadata": {
        "id": "rLigN9eFb1JT"
      },
      "outputs": [],
      "source": [
        "# Find the modulus and print the result:"
      ]
    },
    {
      "cell_type": "markdown",
      "source": [
        "Question\n",
        "Write a program to accept a sentence from the user and reverse its each word."
      ],
      "metadata": {
        "id": "CJrtJWX0gyA1"
      }
    },
    {
      "cell_type": "code",
      "source": [],
      "metadata": {
        "id": "BBJy3IKjg2N8"
      },
      "execution_count": null,
      "outputs": []
    },
    {
      "cell_type": "markdown",
      "source": [
        "Question 6:\n",
        "separate the alphabets & digits from the given string"
      ],
      "metadata": {
        "id": "SyYbe9BBg7UA"
      }
    },
    {
      "cell_type": "code",
      "source": [],
      "metadata": {
        "id": "HvRmmOlPg8EO"
      },
      "execution_count": null,
      "outputs": []
    },
    {
      "cell_type": "markdown",
      "metadata": {
        "id": "xyFL6iLUczpm"
      },
      "source": [
        "Question 10: Solve the error in code below and print the correct result."
      ]
    },
    {
      "cell_type": "code",
      "execution_count": null,
      "metadata": {
        "id": "DX_mc1H8cyRC",
        "outputId": "109e9057-450d-424d-83c9-833262f00af2"
      },
      "outputs": [
        {
          "data": {
            "text/plain": [
              "2"
            ]
          },
          "execution_count": 14,
          "metadata": {},
          "output_type": "execute_result"
        }
      ],
      "source": [
        "num = [2,3,4,6,98]\n",
        "first = int(num[0])\n"
      ]
    },
    {
      "cell_type": "markdown",
      "metadata": {
        "id": "MsVRoye5daZG"
      },
      "source": [
        "Question 11:\n"
      ]
    },
    {
      "cell_type": "code",
      "execution_count": null,
      "metadata": {
        "id": "PqnV_g10dOzS",
        "outputId": "ba0a2712-cad9-43ee-dbd2-ea2474191954"
      },
      "outputs": [
        {
          "name": "stdout",
          "output_type": "stream",
          "text": [
            "hello\n",
            "Good morning\n"
          ]
        }
      ],
      "source": []
    },
    {
      "cell_type": "markdown",
      "metadata": {
        "id": "r8xXSTHRd5RT"
      },
      "source": [
        "Question 12: Concatenate the given strings and print the result:\n"
      ]
    },
    {
      "cell_type": "code",
      "execution_count": null,
      "metadata": {
        "id": "PuwSE5uidy24"
      },
      "outputs": [],
      "source": [
        "# Given below are the two strings:\n",
        "string1= 'Welcome to upgrad'\n",
        "string2= 'coding practice session.'\n",
        "\n",
        "# Concatenate and print the result:"
      ]
    },
    {
      "cell_type": "markdown",
      "metadata": {
        "id": "QpkUZwCsefdt"
      },
      "source": [
        "Question 13: Find the length of string given below and print the result.\n"
      ]
    },
    {
      "cell_type": "code",
      "execution_count": null,
      "metadata": {
        "id": "24Am9RaseEXP"
      },
      "outputs": [],
      "source": [
        "# Given below is the string:\n",
        "\n",
        "# Calculate and print the length:\n",
        "def find_max(nums):\n",
        "    max_num = float(\"-inf\")\n",
        "    for num in nums:\n",
        "        if num>max_num:\n",
        "            num=max_num\n",
        "    return max_num"
      ]
    },
    {
      "cell_type": "markdown",
      "source": [
        "Question 13: Find the length of string given below and print the result."
      ],
      "metadata": {
        "id": "cS2cTAGUjreO"
      }
    },
    {
      "cell_type": "code",
      "source": [
        "# Given below is the string:\n",
        "string='Hi, I hope you are having a great learning experience.'\n",
        "\n",
        "# Calculate and print the length:\n",
        "print(len(string))"
      ],
      "metadata": {
        "colab": {
          "base_uri": "https://localhost:8080/"
        },
        "id": "0kNibfYajvf_",
        "outputId": "8aae904c-d83c-4c96-9885-4c2174684027"
      },
      "execution_count": null,
      "outputs": [
        {
          "output_type": "stream",
          "name": "stdout",
          "text": [
            "54\n"
          ]
        }
      ]
    },
    {
      "cell_type": "markdown",
      "source": [
        "Question 12: Concatenate the given strings and print the result:"
      ],
      "metadata": {
        "id": "-Zp52ui6j4-x"
      }
    },
    {
      "cell_type": "code",
      "source": [
        "# Given below are the two strings:\n",
        "string1= 'Welcome to upgrad'\n",
        "string2= 'coding practice session.'\n",
        "\n",
        "# Concatenate and print the result:\n",
        "print(string1+string2)"
      ],
      "metadata": {
        "colab": {
          "base_uri": "https://localhost:8080/"
        },
        "id": "hlA8nPIrj8S5",
        "outputId": "61350719-e138-40c0-ebdd-054a1d23604d"
      },
      "execution_count": null,
      "outputs": [
        {
          "output_type": "stream",
          "name": "stdout",
          "text": [
            "Welcome to upgradcoding practice session.\n"
          ]
        }
      ]
    },
    {
      "cell_type": "markdown",
      "metadata": {
        "id": "KoVEaa4QfMb_"
      },
      "source": [
        "Question 14: Create a string of length=10. Obtain the fifth and seventh character of the string. Concatenate the characters and form a new string. Print the new string."
      ]
    },
    {
      "cell_type": "code",
      "execution_count": null,
      "metadata": {
        "colab": {
          "base_uri": "https://localhost:8080/"
        },
        "id": "U-356eSce6UM",
        "outputId": "1e0ec295-8a9f-4853-e810-4bdcfee8b4d3"
      },
      "outputs": [
        {
          "output_type": "stream",
          "name": "stdout",
          "text": [
            "tc\n"
          ]
        },
        {
          "output_type": "execute_result",
          "data": {
            "text/plain": [
              "['b', 'c']"
            ]
          },
          "metadata": {},
          "execution_count": 5
        }
      ],
      "source": [
        "# Create a string of length 10:\n",
        "str1='Practice14'\n",
        "\n",
        "# You can verify the length:\n",
        "len(str1)\n",
        "\n",
        "# Obtain the fifth letter and store it into a new string:\n",
        "str2=str1[4]\n",
        "\n",
        "# Obtain the seventh letter and store it into a new string:\n",
        "str3=str1[6]\n",
        "\n",
        "# Concatenate the two strings:\n",
        "str4=str2+str3\n",
        "\n",
        "# Print the result:\n",
        "print(str4)\n",
        "\n",
        "# Print the result:\n",
        "list= ['a' ,'b', 'c', 'd']\n",
        "list[1:-1]"
      ]
    },
    {
      "cell_type": "markdown",
      "metadata": {
        "id": "-9wQ6PQtzNi3"
      },
      "source": [
        "Question 15: Given below is a string. Perform the following operations and print the results:\n",
        "1. Remove the extra spaces from the string and print the new string.\n",
        "2. Find the length of new string\n",
        "3. Remove the last 5 characters of the new string\n",
        "4. Find the 15th character of the new string\n",
        "5. Compute the result of concatenation of the first and last letter of the new string.\n"
      ]
    },
    {
      "cell_type": "code",
      "execution_count": null,
      "metadata": {
        "colab": {
          "base_uri": "https://localhost:8080/"
        },
        "id": "T9GOWY_JyErD",
        "outputId": "e685a176-9d09-4abd-95c0-be50ac35dd9a"
      },
      "outputs": [
        {
          "output_type": "stream",
          "name": "stdout",
          "text": [
            "I hope you enjoyed this practice session.\n",
            "41\n",
            "I hope you enjoyed this practice ses\n",
            "o\n",
            "Is\n"
          ]
        }
      ],
      "source": [
        "# Given below is the string:\n",
        "line= '     I hope you enjoyed this practice session.'\n",
        "\n",
        "# Removing extra spaces:\n",
        "line1=line.strip()\n",
        "\n",
        "# Print the result:\n",
        "print(line1)\n",
        "\n",
        "# Calculate the length:\n",
        "print(len(line1))\n",
        "\n",
        "# Slice the string to remove the last 5 characters:\n",
        "line2=line1[:36]\n",
        "\n",
        "# Print the result:\n",
        "print(line2)\n",
        "\n",
        "# Print the 15th character of the string:\n",
        "print(line2[14])\n",
        "\n",
        "# Print the concatenation of first and last character of resulting string:\n",
        "print(line2[0]+line2[-1])"
      ]
    },
    {
      "cell_type": "code",
      "execution_count": null,
      "metadata": {
        "id": "w91Mf9oBCoU0"
      },
      "outputs": [],
      "source": [
        "# Consider the string given below and answer the following questions\n",
        "string = \"OQYWFClFhFGAvIWYwGKpmZhnJiyzTslSIhSwvOsqJMEphzmifTkyqOMNpnOtXZxmCfgDYqbaBHAUvIWhMnvwZnEMVDvmEfLrDoQnAZgQEgXQVnmSYkfedpAdhrtpOgORpYLRZYGWdhWYuqQssCUXtTzKRDAhpjUheOzUroZNzWFtZOVwIapzUYtbSbjYNErzQ\""
      ]
    },
    {
      "cell_type": "markdown",
      "metadata": {
        "id": "caZwL_t_CoU0"
      },
      "source": [
        "##### Calculate the number of characters in the string\n",
        "\n",
        "-  193\n",
        "-  200\n",
        "-  300\n",
        "-  500\n"
      ]
    },
    {
      "cell_type": "markdown",
      "metadata": {
        "id": "3FQhE9PgCoU0"
      },
      "source": [
        "##### Count the number of occurences of 'a' in the string\n",
        "\n",
        "-  1\n",
        "-  2\n",
        "-  10\n",
        "-  5"
      ]
    },
    {
      "cell_type": "markdown",
      "metadata": {
        "id": "jYkD8DcSCoU0"
      },
      "source": [
        "##### Identify whether the string starts with 'if'.\n",
        "\n",
        "-  True\n",
        "-  False"
      ]
    },
    {
      "cell_type": "markdown",
      "metadata": {
        "id": "USG66HlcCoU0"
      },
      "source": [
        "###### Return the substring starting at index 63 and ending at index 88  [Both the indexes are inclusive]\n",
        "\n",
        "-  'OQYWFClFhFGA'\n",
        "-  'mCfgDYqbaBHAUvIWhMnvwZnEMV'\n",
        "-  'IWYwGKpmZhnJiyzTslSIhSwv'\n",
        "-  'JMEphzmifTkyqOMNpnOtXZ'"
      ]
    },
    {
      "cell_type": "code",
      "execution_count": null,
      "metadata": {
        "id": "u56FIb2tCoU1"
      },
      "outputs": [],
      "source": [
        "function find_max(nums) {\n",
        "2 let max_num = Number.NEGATIVE_INFINITY; // smaller than all other numbers\n",
        "3 for (let num of nums) {\n",
        "4 if (num > max_num) {\n",
        "5 // (Fill in the missing line here)\n",
        "6 }\n",
        "7 }\n",
        "8 return max_num;\n",
        "9 }"
      ]
    },
    {
      "cell_type": "markdown",
      "source": [
        "Question 1: Print a random integer between 100 and 135"
      ],
      "metadata": {
        "id": "aSCAj05gazN9"
      }
    },
    {
      "cell_type": "code",
      "source": [
        "#Import required libraries:\n",
        "\n",
        "#Print a random integer in the given range:"
      ],
      "metadata": {
        "id": "-35xBIsta3M7"
      },
      "execution_count": null,
      "outputs": []
    },
    {
      "cell_type": "markdown",
      "source": [
        "Question 2: Create a list consisting of first 10 even numbers."
      ],
      "metadata": {
        "id": "yrVr3fiRartE"
      }
    },
    {
      "cell_type": "code",
      "source": [
        "# Create a list according to the given condition:"
      ],
      "metadata": {
        "id": "YylhRJdXapAH"
      },
      "execution_count": null,
      "outputs": []
    },
    {
      "cell_type": "markdown",
      "source": [
        "Question 3: Create a list in the following manner: [birthyear, firstname, birthdate, lastname]"
      ],
      "metadata": {
        "id": "4WLp5RiQbDG6"
      }
    },
    {
      "cell_type": "code",
      "source": [
        "# Create a list according to the given condition:"
      ],
      "metadata": {
        "id": "JDhwNa9jbGHx"
      },
      "execution_count": null,
      "outputs": []
    },
    {
      "cell_type": "markdown",
      "source": [
        "Question 4: Create a nested list which consist of 2 students and their scores in mathematics and english:\n",
        "\n",
        "Students: Alex and Cody\n",
        "\n",
        "Alex scores 97 and 95 in mathematics and english respectively,\n",
        "\n",
        "Cody scores 89 and 92 in mathematics and english respectively.\n",
        "\n",
        "The list should be such that it first stores the name of students followed by the subjects and then their scores in nested lists."
      ],
      "metadata": {
        "id": "01-z6Kw8bI-x"
      }
    },
    {
      "cell_type": "code",
      "source": [
        "# Create a list according to the given condition:"
      ],
      "metadata": {
        "id": "cFEQjT3pbMu4"
      },
      "execution_count": null,
      "outputs": []
    },
    {
      "cell_type": "markdown",
      "source": [
        "Question 5: Given below is a list, find out whether is has the letter 'k' in it and print the result as true or false."
      ],
      "metadata": {
        "id": "cO4dRk70bRbh"
      }
    },
    {
      "cell_type": "code",
      "source": [
        "# Given below is a list:\n",
        "list3=[1,2,'r',7,'k',6,'o','h','d',5,9]\n",
        "\n",
        "# Define the character you are searching for:\n",
        "\n",
        "# print the result:"
      ],
      "metadata": {
        "id": "TARaZbAnbTv5"
      },
      "execution_count": null,
      "outputs": []
    },
    {
      "cell_type": "markdown",
      "source": [
        "Question 6: In the tuple given below, print the 3rd element."
      ],
      "metadata": {
        "id": "Ka-U6aPJbYIY"
      }
    },
    {
      "cell_type": "code",
      "source": [
        "# Given below is the tuple:\n",
        "tuple1=(1,'hello','world','567')\n",
        "\n",
        "# Print the 3rd element:\n",
        "tuple[2]"
      ],
      "metadata": {
        "colab": {
          "base_uri": "https://localhost:8080/"
        },
        "id": "FXhIIgwqbazT",
        "outputId": "8914dfa0-bd5b-4b05-e0cf-604ed606278f"
      },
      "execution_count": null,
      "outputs": [
        {
          "output_type": "execute_result",
          "data": {
            "text/plain": [
              "tuple[2]"
            ]
          },
          "metadata": {},
          "execution_count": 8
        }
      ]
    },
    {
      "cell_type": "markdown",
      "source": [
        "Question 7: Given below is a tuple. Sort the tuple and print the result."
      ],
      "metadata": {
        "id": "gifIUSVYbcDS"
      }
    },
    {
      "cell_type": "code",
      "source": [
        "# Given below is the tuple:\n",
        "tuple2=(1,25,67,100,3,54)\n",
        "\n",
        "# Sort the tuple:\n",
        "\n",
        "# Print the result:"
      ],
      "metadata": {
        "id": "e2qrBhqdbj6E"
      },
      "execution_count": null,
      "outputs": []
    },
    {
      "cell_type": "markdown",
      "source": [
        "Question 8: Given below is a list, convert into a set and print the output also print the length of the set."
      ],
      "metadata": {
        "id": "yaY42EbpbmU-"
      }
    },
    {
      "cell_type": "code",
      "source": [
        "# Given below is the list:\n",
        "list4=[1,2,4,6,3,2,5,4,7,4,6,5,3,2,2,1]\n",
        "\n",
        "# Convert the list into set:\n",
        "\n",
        "# Print the result:\n",
        "\n",
        "# Print the length of the set:"
      ],
      "metadata": {
        "id": "xBbFYwZfbo_9"
      },
      "execution_count": null,
      "outputs": []
    },
    {
      "cell_type": "markdown",
      "source": [
        "Question 9: Given below are two sets, perform the operations given below:\n",
        "\n",
        "1. Print their union\n",
        "2. Print their intersection\n",
        "3. Print their difference\n",
        "4. Print their symmetric difference"
      ],
      "metadata": {
        "id": "okD3WU8Kbspl"
      }
    },
    {
      "cell_type": "code",
      "source": [
        "# Given below are two sets:\n",
        "a={1,2,3,5,6,7}\n",
        "b={4,5,8,9,2,3}\n",
        "\n",
        "# Print their union:\n",
        "\n",
        "# Print their intersection:\n",
        "\n",
        "# Print their difference:\n",
        "\n",
        "# Print their symmetric difference:"
      ],
      "metadata": {
        "id": "CSfBAM5fbzSe"
      },
      "execution_count": null,
      "outputs": []
    },
    {
      "cell_type": "markdown",
      "source": [
        "Question 10: Create a dictionary that stores the names and roll numbers of 5 students as given below:\n",
        "\n",
        "1. Sam, 21\n",
        "2. Cody, 12\n",
        "3. Addy, 3\n",
        "4. Zach, 45\n",
        "5. Amy, 6"
      ],
      "metadata": {
        "id": "pJ-BTAXCb1yt"
      }
    },
    {
      "cell_type": "code",
      "source": [
        "# Create a dictionary:\n",
        "\n",
        "# Print the result:"
      ],
      "metadata": {
        "id": "zuLNP5Vrb8PG"
      },
      "execution_count": null,
      "outputs": []
    },
    {
      "cell_type": "markdown",
      "source": [
        "Question 11: Due to admission of new students the roll number of zach has changed from 45 to 47. Make the required changes and print the new dictionary."
      ],
      "metadata": {
        "id": "VNasJ3Elb-9T"
      }
    },
    {
      "cell_type": "code",
      "source": [
        "# Update the roll number:\n",
        "\n",
        "# Print the new dictionary:"
      ],
      "metadata": {
        "id": "q0xQvYNVcBUY"
      },
      "execution_count": null,
      "outputs": []
    },
    {
      "cell_type": "markdown",
      "source": [
        "Question 12: Sort the dictionary according to roll number."
      ],
      "metadata": {
        "id": "kOcXjYYecD-Q"
      }
    },
    {
      "cell_type": "code",
      "source": [
        "# Sort and print the students roll number wise in ascending order:"
      ],
      "metadata": {
        "id": "VB3QEv0JcGN-"
      },
      "execution_count": null,
      "outputs": []
    }
  ],
  "metadata": {
    "colab": {
      "provenance": []
    },
    "kernelspec": {
      "display_name": "Python 3 (ipykernel)",
      "language": "python",
      "name": "python3"
    },
    "language_info": {
      "codemirror_mode": {
        "name": "ipython",
        "version": 3
      },
      "file_extension": ".py",
      "mimetype": "text/x-python",
      "name": "python",
      "nbconvert_exporter": "python",
      "pygments_lexer": "ipython3",
      "version": "3.9.13"
    }
  },
  "nbformat": 4,
  "nbformat_minor": 0
}