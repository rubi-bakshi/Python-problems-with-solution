{
 "cells": [
  {
   "cell_type": "markdown",
   "metadata": {},
   "source": [
    "##### Question 1: Swapping\n",
    "\n",
    "You are given two integer variables,  x and y. You have to swap the values stored in x and y."
   ]
  },
  {
   "cell_type": "code",
   "execution_count": 1,
   "metadata": {},
   "outputs": [
    {
     "name": "stdout",
     "output_type": "stream",
     "text": [
      "Enter the numbers:23,32\n",
      "x before swapping: 23\n",
      "y before swapping: 32\n",
      "x after swapping: 32\n",
      "y after swapping: 23\n"
     ]
    }
   ],
   "source": [
    "# Take input using input()\n",
    "in_string  = input(\"Enter the numbers:\")\n",
    "\n",
    "#here extract the two numbers from the string\n",
    "mylist = in_string.split(',')\n",
    "x = int(mylist[0])\n",
    "y = int(mylist[1])\n",
    "\n",
    "#print x and y before swapping\n",
    "print(\"x before swapping:\",x)\n",
    "print(\"y before swapping:\",y)\n",
    "\n",
    "x= x+y\n",
    "y= x-y\n",
    "x= x-y\n",
    "\n",
    "#print x and y after swapping\n",
    "print(\"x after swapping:\",x)\n",
    "print(\"y after swapping:\",y)"
   ]
  },
  {
   "cell_type": "markdown",
   "metadata": {},
   "source": [
    "## Question 2: Even Or Odd\n",
    "Given an integer, print whether it is Even or Odd."
   ]
  },
  {
   "cell_type": "code",
   "execution_count": 2,
   "metadata": {},
   "outputs": [
    {
     "name": "stdout",
     "output_type": "stream",
     "text": [
      "324\n",
      "Even\n"
     ]
    }
   ],
   "source": [
    "#Take input from user\n",
    "num=int(input())\n",
    "\n",
    "#start writing your code from here\n",
    "if num%2 == 0:\n",
    "    print(\"Even\")\n",
    "else:\n",
    "    print (\"Odd\")"
   ]
  },
  {
   "cell_type": "markdown",
   "metadata": {},
   "source": [
    "##### Question 3: \n",
    "Find the highest no, among given nos "
   ]
  },
  {
   "cell_type": "code",
   "execution_count": 3,
   "metadata": {},
   "outputs": [
    {
     "name": "stdout",
     "output_type": "stream",
     "text": [
      "Enter first no: 231\n",
      "Enter second no: 32\n",
      "Enter third no: 43\n",
      "highest no is: 231\n"
     ]
    }
   ],
   "source": [
    "#Take input from user\n",
    "\n",
    "a= int(input(\"Enter first no: \"))\n",
    "b= int(input(\"Enter second no: \"))\n",
    "c= int(input(\"Enter third no: \"))\n",
    "max= a\n",
    "if max<b:\n",
    "   max= b\n",
    "if max<c:\n",
    "   max= c\n",
    "print(\"highest no is:\", max)"
   ]
  },
  {
   "cell_type": "markdown",
   "metadata": {},
   "source": [
    "##### Question 4: \n",
    "Write A program to accept Four digit number from user and count zero , odd and even digits presents in the entered number."
   ]
  },
  {
   "cell_type": "code",
   "execution_count": 4,
   "metadata": {},
   "outputs": [
    {
     "name": "stdout",
     "output_type": "stream",
     "text": [
      "Enter a 4 digit number 1230\n",
      "Numbers of Zeros = 1 , Even = 1 , Odd = 2\n"
     ]
    }
   ],
   "source": [
    "#take input from user\n",
    "num = input(\"Enter a 4 digit number \")\n",
    "count_zero= 0\n",
    "count_odd= 0\n",
    "count_even= 0\n",
    "\n",
    "num_length= len(num)\n",
    "\n",
    "if num_length==4:\n",
    "    for digit in num:\n",
    "        if int(digit)==0:\n",
    "            count_zero= count_zero+1\n",
    "        elif int(digit)%2==0:\n",
    "            count_even = count_even+1\n",
    "        elif int(digit)%2!=0:\n",
    "            count_odd+=1\n",
    "    print(\"Numbers of Zeros = {} , Even = {} , Odd = {}\".format(count_zero,count_even,count_odd))\n",
    "else:\n",
    "    print(\"Sorry! Not a 4 digit number\") "
   ]
  },
  {
   "cell_type": "markdown",
   "metadata": {},
   "source": [
    "###### Question 5: \n",
    "Write a program to accept ‘n’ numbers from user , store these numbers into an list. Find out maximum and minimum number from an list."
   ]
  },
  {
   "cell_type": "code",
   "execution_count": 20,
   "metadata": {},
   "outputs": [
    {
     "name": "stdout",
     "output_type": "stream",
     "text": [
      "Enter the no present in the list 4\n",
      "Enter the values 120\n",
      "Enter the values 30\n",
      "Enter the values 39\n",
      "Enter the values 10\n",
      "[120, 30, 39, 10]\n"
     ]
    },
    {
     "ename": "TypeError",
     "evalue": "'int' object is not callable",
     "output_type": "error",
     "traceback": [
      "\u001b[0;31m---------------------------------------------------------------------------\u001b[0m",
      "\u001b[0;31mTypeError\u001b[0m                                 Traceback (most recent call last)",
      "\u001b[0;32m/var/folders/mf/clw1xbl924sg30n_7yq6zn1r0000gq/T/ipykernel_65996/1983265642.py\u001b[0m in \u001b[0;36m<module>\u001b[0;34m\u001b[0m\n\u001b[1;32m     10\u001b[0m \u001b[0mprint\u001b[0m\u001b[0;34m(\u001b[0m\u001b[0mlist1\u001b[0m\u001b[0;34m)\u001b[0m\u001b[0;34m\u001b[0m\u001b[0;34m\u001b[0m\u001b[0m\n\u001b[1;32m     11\u001b[0m \u001b[0mmin_list\u001b[0m \u001b[0;34m=\u001b[0m \u001b[0mmin\u001b[0m\u001b[0;34m(\u001b[0m\u001b[0mlist1\u001b[0m\u001b[0;34m)\u001b[0m\u001b[0;34m\u001b[0m\u001b[0;34m\u001b[0m\u001b[0m\n\u001b[0;32m---> 12\u001b[0;31m \u001b[0mmax_list\u001b[0m \u001b[0;34m=\u001b[0m \u001b[0mmax\u001b[0m\u001b[0;34m(\u001b[0m\u001b[0mlist1\u001b[0m\u001b[0;34m)\u001b[0m\u001b[0;34m\u001b[0m\u001b[0;34m\u001b[0m\u001b[0m\n\u001b[0m\u001b[1;32m     13\u001b[0m \u001b[0;34m\u001b[0m\u001b[0m\n\u001b[1;32m     14\u001b[0m \u001b[0mprint\u001b[0m\u001b[0;34m(\u001b[0m\u001b[0;34m\"Minimum Value of array : {}\"\u001b[0m\u001b[0;34m.\u001b[0m\u001b[0mformat\u001b[0m\u001b[0;34m(\u001b[0m\u001b[0mmin_list\u001b[0m\u001b[0;34m)\u001b[0m\u001b[0;34m)\u001b[0m\u001b[0;34m\u001b[0m\u001b[0;34m\u001b[0m\u001b[0m\n",
      "\u001b[0;31mTypeError\u001b[0m: 'int' object is not callable"
     ]
    }
   ],
   "source": [
    "#takes the i/p from user\n",
    "list1= []\n",
    "n= int(input(\"Enter the no present in the list \"))\n",
    "\n",
    "#create the list with no of elements entered by user\n",
    "for i in range(0,n):\n",
    "    new_list = int(input(\"Enter the values \"))\n",
    "    list1.append(new_list)\n",
    "    \n",
    "print(list1)    \n",
    "min_list = min(list1)\n",
    "max_list = max(list1)\n",
    "\n",
    "print(\"Minimum Value of array : {}\".format(min_list))\n",
    "print(\"Maximum Value of array : {}\".format(max_list))"
   ]
  },
  {
   "cell_type": "markdown",
   "metadata": {},
   "source": [
    "###### Question: 6\n",
    "Write a program to calculate the sum of first digit and last digit of a given number"
   ]
  },
  {
   "cell_type": "code",
   "execution_count": 6,
   "metadata": {},
   "outputs": [
    {
     "name": "stdout",
     "output_type": "stream",
     "text": [
      "Enter the number 234111\n",
      "sum of 1st and last digit of given num is:3\n"
     ]
    }
   ],
   "source": [
    "num= input(\"Enter the number \")\n",
    "firstDigit =int(num[0])\n",
    "lastdigit = int(num[-1])\n",
    "finalSum= firstDigit+lastdigit\n",
    "print(\"sum of 1st and last digit of given num is:{}\".format(finalSum))"
   ]
  },
  {
   "cell_type": "code",
   "execution_count": 7,
   "metadata": {},
   "outputs": [
    {
     "name": "stdout",
     "output_type": "stream",
     "text": [
      "Enter the number 123456\n",
      "7\n"
     ]
    }
   ],
   "source": [
    "#alternate method\n",
    "num= int(input(\"Enter the number \"))\n",
    "lastDigit = num%10\n",
    "#result=num%10\n",
    "while num > 9:\n",
    "    num = num//10\n",
    "result = lastDigit+num\n",
    "#result+= num\n",
    "print(result)\n"
   ]
  },
  {
   "cell_type": "markdown",
   "metadata": {},
   "source": [
    "##### Question:7\n",
    "Write a program to calculate the sum of digits of a given number."
   ]
  },
  {
   "cell_type": "code",
   "execution_count": 8,
   "metadata": {},
   "outputs": [
    {
     "name": "stdout",
     "output_type": "stream",
     "text": [
      "Enter the number: 234511\n",
      "Sum of the digits of number : 16\n"
     ]
    }
   ],
   "source": [
    "def getSumofDigits(num):\n",
    "    sum = 0\n",
    "    while num>0:\n",
    "        sum= sum + int(num%10)\n",
    "        num= int(num/10)\n",
    "        \n",
    "    return sum\n",
    "num = int(input(\"Enter the number: \"))\n",
    "print(\"Sum of the digits of number : {}\".format(getSumofDigits(num)))"
   ]
  },
  {
   "cell_type": "markdown",
   "metadata": {},
   "source": [
    "##### Question: 8\n",
    "Write a program to accept a string value from the user and accept a char value from the user and and find out the total occurrence of char value in the string value."
   ]
  },
  {
   "cell_type": "code",
   "execution_count": 9,
   "metadata": {},
   "outputs": [
    {
     "name": "stdout",
     "output_type": "stream",
     "text": [
      "Enter a string: joe does not share his food with anyone\n",
      "Enter a char: o\n",
      "count of o in the string joe does not share his food with anyone is: 6 \n"
     ]
    }
   ],
   "source": [
    "givenString = input(\"Enter a string: \")\n",
    "givenChar = input(\"Enter a char: \")\n",
    "count = 0\n",
    "for char in givenString:\n",
    "    if char == givenChar:\n",
    "        count +=1\n",
    "print(\"count of {} in the string {} is: {} \".format(givenChar,givenString,count))"
   ]
  },
  {
   "cell_type": "markdown",
   "metadata": {},
   "source": [
    "##### Question\n",
    "Write a program to accept a sentence from the user and reverse its each word."
   ]
  },
  {
   "cell_type": "code",
   "execution_count": null,
   "metadata": {},
   "outputs": [],
   "source": []
  },
  {
   "cell_type": "markdown",
   "metadata": {},
   "source": [
    "#### Identify the character at index 45\n",
    "\n",
    "-  a\n",
    "-  b\n",
    "-  z\n",
    "-  x"
   ]
  },
  {
   "cell_type": "code",
   "execution_count": null,
   "metadata": {},
   "outputs": [],
   "source": [
    "# Type your code here"
   ]
  },
  {
   "cell_type": "markdown",
   "metadata": {},
   "source": [
    "###### Question 6:\n",
    "separate the alphabets & digits from the given string"
   ]
  },
  {
   "cell_type": "code",
   "execution_count": null,
   "metadata": {},
   "outputs": [],
   "source": []
  },
  {
   "cell_type": "markdown",
   "metadata": {},
   "source": [
    "###### Question 7:\n",
    "This will find if a given string is palindrom or not"
   ]
  },
  {
   "cell_type": "code",
   "execution_count": 19,
   "metadata": {},
   "outputs": [
    {
     "name": "stdout",
     "output_type": "stream",
     "text": [
      "Enter the string: Madam\n",
      "madam is a palindrome\n"
     ]
    }
   ],
   "source": [
    "def isPalindrome(givenString):\n",
    "    if givenString== givenString[::-1]:\n",
    "        return True\n",
    "    return False\n",
    "\n",
    "#converting to lower case as python is case sensitive\n",
    "givenString = input(\"Enter the string: \").lower()\n",
    "res = isPalindrome(givenString)\n",
    "if (res):\n",
    "    print(\"{} is a palindrome\".format(givenString))\n",
    "else:\n",
    "    print(\"It's not\")"
   ]
  },
  {
   "cell_type": "markdown",
   "metadata": {},
   "source": [
    "###### Question 8:\n",
    "This will Find If a given sentence is palindrom"
   ]
  },
  {
   "cell_type": "code",
   "execution_count": null,
   "metadata": {},
   "outputs": [],
   "source": []
  },
  {
   "cell_type": "markdown",
   "metadata": {},
   "source": [
    "###### Question 9:\n",
    "separate alphabets & digits from a given string using ASCI valu"
   ]
  },
  {
   "cell_type": "code",
   "execution_count": null,
   "metadata": {},
   "outputs": [],
   "source": []
  },
  {
   "cell_type": "markdown",
   "metadata": {},
   "source": [
    "###### Question 10:\n",
    "function will find first non repeated element using collection or linked hashmap."
   ]
  },
  {
   "cell_type": "code",
   "execution_count": null,
   "metadata": {},
   "outputs": [],
   "source": []
  },
  {
   "cell_type": "markdown",
   "metadata": {},
   "source": [
    "###### Question 11:\n",
    "Function will find first non repeated element using normal for loop"
   ]
  },
  {
   "cell_type": "code",
   "execution_count": null,
   "metadata": {},
   "outputs": [],
   "source": []
  },
  {
   "cell_type": "markdown",
   "metadata": {},
   "source": [
    "###### Question 12:\n",
    "Find duplicate elements from a string using linkedhashmap"
   ]
  },
  {
   "cell_type": "code",
   "execution_count": null,
   "metadata": {},
   "outputs": [],
   "source": []
  }
 ],
 "metadata": {
  "kernelspec": {
   "display_name": "Python 3 (ipykernel)",
   "language": "python",
   "name": "python3"
  },
  "language_info": {
   "codemirror_mode": {
    "name": "ipython",
    "version": 3
   },
   "file_extension": ".py",
   "mimetype": "text/x-python",
   "name": "python",
   "nbconvert_exporter": "python",
   "pygments_lexer": "ipython3",
   "version": "3.9.13"
  }
 },
 "nbformat": 4,
 "nbformat_minor": 2
}
