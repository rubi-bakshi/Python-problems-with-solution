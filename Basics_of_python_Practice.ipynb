{
 "cells": [
  {
   "cell_type": "markdown",
   "metadata": {
    "colab_type": "text",
    "id": "e2CWWATVTFOQ"
   },
   "source": [
    "# Practice Exercise"
   ]
  },
  {
   "cell_type": "markdown",
   "metadata": {
    "colab_type": "text",
    "id": "gxSUV29HVelr"
   },
   "source": [
    "##### Question 1: Swapping\n",
    "\n",
    "You are given two integer variables,  x and y. You have to swap the values stored in x and y."
   ]
  },
  {
   "cell_type": "code",
   "execution_count": 1,
   "metadata": {},
   "outputs": [
    {
     "name": "stdout",
     "output_type": "stream",
     "text": [
      "Enter the numbers:56,89\n",
      "x before swapping: 56\n",
      "y before swapping: 89\n",
      "x after swapping: 89\n",
      "y after swapping: 56\n"
     ]
    }
   ],
   "source": [
    "# Take input using input()\n",
    "in_string  = input(\"Enter the numbers:\")\n",
    "\n",
    "#here extract the two numbers from the string\n",
    "mylist = in_string.split(',')\n",
    "x = int(mylist[0])\n",
    "y = int(mylist[1])\n",
    "\n",
    "#print x and y before swapping\n",
    "print(\"x before swapping:\",x)\n",
    "print(\"y before swapping:\",y)\n",
    "\n",
    "x= x+y\n",
    "y= x-y\n",
    "x= x-y\n",
    "\n",
    "#print x and y after swapping\n",
    "print(\"x after swapping:\",x)\n",
    "print(\"y after swapping:\",y)"
   ]
  },
  {
   "cell_type": "markdown",
   "metadata": {
    "colab_type": "text",
    "id": "Ys8qEL-HTMA1"
   },
   "source": [
    "##### Question 2: Even Or Odd\n",
    "Given an integer, print whether it is Even or Odd."
   ]
  },
  {
   "cell_type": "code",
   "execution_count": 2,
   "metadata": {
    "colab": {},
    "colab_type": "code",
    "id": "ypmiTaqjSu_C"
   },
   "outputs": [
    {
     "name": "stdout",
     "output_type": "stream",
     "text": [
      "678\n",
      "Even\n"
     ]
    }
   ],
   "source": [
    "#Take input from user\n",
    "num=int(input())\n",
    "\n",
    "#start writing your code from here\n",
    "if num%2 == 0:\n",
    "    print(\"Even\")\n",
    "else:\n",
    "    print (\"Odd\")"
   ]
  },
  {
   "cell_type": "markdown",
   "metadata": {
    "colab_type": "text",
    "id": "SCtZJrEjUyLV"
   },
   "source": [
    "##### Question 3: \n",
    "Find the highest no, among given nos"
   ]
  },
  {
   "cell_type": "code",
   "execution_count": 3,
   "metadata": {
    "scrolled": true
   },
   "outputs": [
    {
     "name": "stdout",
     "output_type": "stream",
     "text": [
      "Enter first no: 56\n",
      "Enter second no: 709\n",
      "Enter third no: 230\n",
      "highest no is: 709\n"
     ]
    }
   ],
   "source": [
    "#Take input from user\n",
    "\n",
    "a= int(input(\"Enter first no: \"))\n",
    "b= int(input(\"Enter second no: \"))\n",
    "c= int(input(\"Enter third no: \"))\n",
    "max= a\n",
    "if max<b:\n",
    "   max= b\n",
    "if max<c:\n",
    "   max= c\n",
    "print(\"highest no is:\", max)"
   ]
  },
  {
   "cell_type": "markdown",
   "metadata": {},
   "source": [
    "##### Question 4: \n",
    "Write A program to accept Four digit number from user and count zero , odd and even digits presents in the entered number.\n"
   ]
  },
  {
   "cell_type": "code",
   "execution_count": 4,
   "metadata": {},
   "outputs": [
    {
     "name": "stdout",
     "output_type": "stream",
     "text": [
      "Enter a 4 digit number 4567\n",
      "Numbers of Zeros = 0 , Even = 2 , Odd = 2\n"
     ]
    }
   ],
   "source": [
    "#take input from user\n",
    "num = input(\"Enter a 4 digit number \")\n",
    "count_zero= 0\n",
    "count_odd= 0\n",
    "count_even= 0\n",
    "\n",
    "num_length= len(num)\n",
    "\n",
    "if num_length==4:\n",
    "    for digit in num:\n",
    "        if int(digit)==0:\n",
    "            count_zero= count_zero+1\n",
    "        elif int(digit)%2==0:\n",
    "            count_even = count_even+1\n",
    "        elif int(digit)%2!=0:\n",
    "            count_odd+=1\n",
    "    print(\"Numbers of Zeros = {} , Even = {} , Odd = {}\".format(count_zero,count_even,count_odd))\n",
    "else:\n",
    "    print(\"Sorry! Not a 4 digit number\") "
   ]
  },
  {
   "cell_type": "markdown",
   "metadata": {},
   "source": [
    "#### Question 5: \n",
    "Write a program to accept ‘n’ numbers from user , store these numbers into an list. Find out maximum and minimum number from an list."
   ]
  },
  {
   "cell_type": "code",
   "execution_count": 1,
   "metadata": {},
   "outputs": [
    {
     "name": "stdout",
     "output_type": "stream",
     "text": [
      "Enter the no present in the list 4\n",
      "Enter the values 23\n",
      "Enter the values 21\n",
      "Enter the values 43\n",
      "Enter the values 55\n",
      "[23, 21, 43, 55]\n",
      "Minimum Value of array : 21\n",
      "Maximum Value of array : 55\n"
     ]
    }
   ],
   "source": [
    "#takes the i/p from user\n",
    "list1= []\n",
    "n= int(input(\"Enter the no present in the list \"))\n",
    "\n",
    "#create the list with no of elements entered by user\n",
    "for i in range(0,n):\n",
    "    new_list = int(input(\"Enter the values \"))\n",
    "    list1.append(new_list)\n",
    "    \n",
    "print(list1)    \n",
    "min_list = min(list1)\n",
    "max_list = max(list1)\n",
    "\n",
    "print(\"Minimum Value of array : {}\".format(min_list))\n",
    "print(\"Maximum Value of array : {}\".format(max_list))"
   ]
  },
  {
   "cell_type": "markdown",
   "metadata": {},
   "source": [
    "##### Question 6: \n",
    "Find the factorial of gven number"
   ]
  },
  {
   "cell_type": "code",
   "execution_count": 2,
   "metadata": {},
   "outputs": [
    {
     "name": "stdout",
     "output_type": "stream",
     "text": [
      "Enter the num 5\n",
      "factorial is: 120\n"
     ]
    }
   ],
   "source": [
    "def findFactorial(n):\n",
    "    if n<0:\n",
    "        return -1\n",
    "    elif n==0:\n",
    "        return 1\n",
    "    else:\n",
    "        r=1\n",
    "        while(n>0):\n",
    "            r= r*n\n",
    "            n= n-1\n",
    "        return r\n",
    "    \n",
    "num = int(input(\"Enter the num \"))\n",
    "k= findFactorial(num)\n",
    "print(\"factorial is: {}\".format(k))\n",
    "            "
   ]
  },
  {
   "cell_type": "markdown",
   "metadata": {},
   "source": [
    "##### Question: 7\n",
    "Write a program to calculate the sum of first digit and last digit of a given number"
   ]
  },
  {
   "cell_type": "code",
   "execution_count": 3,
   "metadata": {},
   "outputs": [
    {
     "name": "stdout",
     "output_type": "stream",
     "text": [
      "Enter the number 234321\n",
      "sum of 1st and last digit of given num is:3\n"
     ]
    }
   ],
   "source": [
    "num= input(\"Enter the number \")\n",
    "firstDigit =int(num[0])\n",
    "lastdigit = int(num[-1])\n",
    "finalSum= firstDigit+lastdigit\n",
    "print(\"sum of 1st and last digit of given num is:{}\".format(finalSum))"
   ]
  },
  {
   "cell_type": "code",
   "execution_count": 4,
   "metadata": {},
   "outputs": [
    {
     "name": "stdout",
     "output_type": "stream",
     "text": [
      "Enter the number 23456\n",
      "sum of 1st and last digit of given num is:8\n"
     ]
    }
   ],
   "source": [
    "#alternaate method\n",
    "num= int(input(\"Enter the number \"))\n",
    "lastDigit = num%10\n",
    "#result=num%10\n",
    "while num > 9:\n",
    "    num = num//10\n",
    "result = lastDigit+num\n",
    "#result+= num\n",
    "print(\"sum of 1st and last digit of given num is:{}\".format(result))"
   ]
  },
  {
   "cell_type": "markdown",
   "metadata": {},
   "source": [
    "###### Question:8\n",
    "Write a program to calculate the sum of digits of a given number."
   ]
  },
  {
   "cell_type": "code",
   "execution_count": 5,
   "metadata": {},
   "outputs": [
    {
     "name": "stdout",
     "output_type": "stream",
     "text": [
      "Enter the number: 12345432\n",
      "Sum of the digits of number : 24\n"
     ]
    }
   ],
   "source": [
    "def getSumofDigits(num):\n",
    "    sum = 0\n",
    "    while num>0:\n",
    "        sum= sum + int(num%10)\n",
    "        num= int(num/10)\n",
    "        \n",
    "    return sum\n",
    "num = int(input(\"Enter the number: \"))\n",
    "print(\"Sum of the digits of number : {}\".format(getSumofDigits(num)))"
   ]
  },
  {
   "cell_type": "markdown",
   "metadata": {},
   "source": [
    "##### Question:9\n",
    "Write a program to accept a string value from the user and accept a char value from the user and and find out the total occurrence of char value in the string value."
   ]
  },
  {
   "cell_type": "code",
   "execution_count": 6,
   "metadata": {},
   "outputs": [
    {
     "name": "stdout",
     "output_type": "stream",
     "text": [
      "Enter a string:  joe does not share his food with anyone\n",
      "Enter a char: z\n",
      "count of z in the string  joe does not share his food with anyone is: 0 \n"
     ]
    }
   ],
   "source": [
    "givenString = input(\"Enter a string: \")\n",
    "givenChar = input(\"Enter a char: \")\n",
    "count = 0\n",
    "for char in givenString:\n",
    "    if char == givenChar:\n",
    "        count +=1\n",
    "    else:\n",
    "        count\n",
    "print(\"count of {} in the string {} is: {} \".format(givenChar,givenString,count))"
   ]
  },
  {
   "cell_type": "markdown",
   "metadata": {
    "colab_type": "text",
    "id": "DImK3bXbVQmK"
   },
   "source": [
    "##### Question 4: Print the pattern given below:\n",
    "\n",
    "\n",
    "\n",
    "![image.png](data:image/png;base64,iVBORw0KGgoAAAANSUhEUgAAADIAAABFCAYAAAAIGLXIAAACvklEQVRoBe1abW7DIAzljJF6oSpXSY/SHWQ/egxPgA3GfAwxEO3kSVP4NLz3TGInNfBP/sw/wQEK5N2UVEVUkUUMqGstInbYrCoyTN2iiarIImKHzaoiPdS9HgcYY+D86hn9tzGLFHnBdTNwPC44PxmIVcKr8PxsINFJFEjkorO06IzQ6qoIMdF9VUWaVH2d7vlhnyH8f+XzZLEiTbhTOxXIVDonGFNFJpA41YQqMpXOCcZUkQkkTjWhikAShhxwfTOCvy84eHhyu+DFukORxtX6w8DfC4OK2PD8hCfa97l5rMtln3cD5k6jqdenw+f9BLMPCG0Gr45ZoQob4oAKIK7NArDKfgYQZJ6/SeHA3weI32jmOvwMCcatqx0PPDXvAsT5v9go8ypfdKDwDMmNy3o2ua9h8LB74w4EO/T1Je3NwZ8hPydNuCj5+kviNQykHwRAONglpFsVofs/f1bYMt2ZnCsx1luutxVIidnNbcOutXnf2fIKJKNkc4MqslmAbHlVJKNkc4MqslmAbPmqIj7rY2FG6aNmEqrExKoWGMag0H8AomDRyMAzsdv3VbgJJOQMGX4An7PHzZeGhDaeSEGeaDngFKeB+MqVzA0Ws8IgELuZThCA0W+y0XQuT4VLkbIF2iQVoP7jTGuwOtmxdMKFPwhwLlKNcGMuQjQmKQC6EbkdB0XjS23UR9emItGHWYhuZ2KYHoFW0t1MDVo22jCYcIUe6UoINKQIYWBaqAJJh4mNlnKIUpv0dzTqFCEFM1LQFSnXuV3wbHkH2uwEIvwcXSt5U1UAUvJ3kIzbjTgw7fdi5HopwbHWBwTljca8QtK1Yt0uIO4+tGZmCyBRiMbh1fWFG4XoZNUKEHQlklf6sTOQPgtSEO3N0RkLZ5DcrMMu23tSrABJxnxERYG8m0yqiCqyiAF1rUXEDpv9AT7GtDRI+0oLAAAAAElFTkSuQmCC)"
   ]
  },
  {
   "cell_type": "code",
   "execution_count": 7,
   "metadata": {
    "colab": {},
    "colab_type": "code",
    "id": "DkSe8TvcVPMK"
   },
   "outputs": [],
   "source": [
    "# Print the pattern shown in the question above:"
   ]
  },
  {
   "cell_type": "markdown",
   "metadata": {
    "colab_type": "text",
    "id": "wmEibYOCXoUV"
   },
   "source": []
  },
  {
   "cell_type": "code",
   "execution_count": 9,
   "metadata": {
    "colab": {},
    "colab_type": "code",
    "id": "ca4yCx9OXfyt"
   },
   "outputs": [
    {
     "name": "stdout",
     "output_type": "stream",
     "text": [
      "###############\n"
     ]
    }
   ],
   "source": [
    "# Print the pattern shown in the question above:\n"
   ]
  },
  {
   "cell_type": "markdown",
   "metadata": {
    "colab_type": "text",
    "id": "pCh5QAyGYdWe"
   },
   "source": [
    "Question 6: Take the user input of string and reverse the string"
   ]
  },
  {
   "cell_type": "code",
   "execution_count": null,
   "metadata": {
    "colab": {},
    "colab_type": "code",
    "id": "uO-kTgb7XoJZ"
   },
   "outputs": [],
   "source": [
    "# Take the user input into a string:\n",
    "\n",
    "# Print the date:"
   ]
  },
  {
   "cell_type": "markdown",
   "metadata": {
    "colab_type": "text",
    "id": "WzkRCuNYZOnp"
   },
   "source": [
    "Question 7: Type cast the interger 1.8 into a string and print the result."
   ]
  },
  {
   "cell_type": "code",
   "execution_count": null,
   "metadata": {
    "colab": {},
    "colab_type": "code",
    "id": "tv7dzZX2YdFH"
   },
   "outputs": [],
   "source": [
    "# Store the interger as a varaible:\n",
    "\n",
    "# Typecast the integer:\n",
    "\n",
    "# Print the result:"
   ]
  },
  {
   "cell_type": "markdown",
   "metadata": {
    "colab_type": "text",
    "id": "IP5LMF00bATM"
   },
   "source": [
    "Question 8: Find the product of two numbers input by the user."
   ]
  },
  {
   "cell_type": "code",
   "execution_count": null,
   "metadata": {
    "colab": {},
    "colab_type": "code",
    "id": "_REzzqdwa3Gp"
   },
   "outputs": [],
   "source": [
    "# Take input of the first number and store it in a variable:\n",
    "\n",
    "# Take input of the second number and store it in a variable:\n",
    "\n",
    "# You will need to typecast the input strings into integers\n",
    "# Calculate the product:\n",
    "\n",
    "# Print the result:"
   ]
  },
  {
   "cell_type": "markdown",
   "metadata": {
    "colab_type": "text",
    "id": "041d-OjCcXt9"
   },
   "source": [
    "Question 9: Calculate the remainder of the number 6 when divided by the number 4."
   ]
  },
  {
   "cell_type": "code",
   "execution_count": null,
   "metadata": {
    "colab": {},
    "colab_type": "code",
    "id": "rLigN9eFb1JT"
   },
   "outputs": [],
   "source": [
    "# Find the modulus and print the result:"
   ]
  },
  {
   "cell_type": "markdown",
   "metadata": {
    "colab_type": "text",
    "id": "xyFL6iLUczpm"
   },
   "source": [
    "Question 10: Solve the error in code below and print the correct result."
   ]
  },
  {
   "cell_type": "code",
   "execution_count": null,
   "metadata": {
    "colab": {},
    "colab_type": "code",
    "id": "DX_mc1H8cyRC"
   },
   "outputs": [],
   "source": [
    "# Given:\n",
    "print('I can't study any longer')\n",
    "\n",
    "# Corrected solution:"
   ]
  },
  {
   "cell_type": "markdown",
   "metadata": {
    "colab_type": "text",
    "id": "MsVRoye5daZG"
   },
   "source": [
    "Question 11: Print the following statement using only 1 print statement:\n",
    "\n",
    "Hello\n",
    "\n",
    "Good Morning"
   ]
  },
  {
   "cell_type": "code",
   "execution_count": null,
   "metadata": {
    "colab": {},
    "colab_type": "code",
    "id": "PqnV_g10dOzS"
   },
   "outputs": [],
   "source": [
    "# Print the required statement:\\"
   ]
  },
  {
   "cell_type": "markdown",
   "metadata": {
    "colab_type": "text",
    "id": "r8xXSTHRd5RT"
   },
   "source": [
    "Question 12: Concatenate the given strings and print the result:\n"
   ]
  },
  {
   "cell_type": "code",
   "execution_count": null,
   "metadata": {
    "colab": {},
    "colab_type": "code",
    "id": "PuwSE5uidy24"
   },
   "outputs": [],
   "source": [
    "# Given below are the two strings:\n",
    "string1= 'Welcome to upgrad'\n",
    "string2= 'coding practice session.'\n",
    "\n",
    "# Concatenate and print the result:"
   ]
  },
  {
   "cell_type": "markdown",
   "metadata": {
    "colab_type": "text",
    "id": "QpkUZwCsefdt"
   },
   "source": [
    "Question 13: Find the length of string given below and print the result.\n"
   ]
  },
  {
   "cell_type": "code",
   "execution_count": null,
   "metadata": {
    "colab": {},
    "colab_type": "code",
    "id": "24Am9RaseEXP"
   },
   "outputs": [],
   "source": [
    "# Given below is the string:\n",
    "\n",
    "# Calculate and print the length:"
   ]
  },
  {
   "cell_type": "markdown",
   "metadata": {
    "colab_type": "text",
    "id": "KoVEaa4QfMb_"
   },
   "source": [
    "Question 14: Create a string of length=10. Obtain the fifth and seventh character of the string. Concatenate the characters and form a new string. Print the new string."
   ]
  },
  {
   "cell_type": "code",
   "execution_count": null,
   "metadata": {
    "colab": {},
    "colab_type": "code",
    "id": "U-356eSce6UM"
   },
   "outputs": [],
   "source": [
    "# Create a string of length 10:\n",
    "\n",
    "# You can verify the length:\n",
    "\n",
    "# Obtain the fifth letter and store it into a new string:\n",
    "\n",
    "# Obtain the seventh letter and store it into a new string:\n",
    "\n",
    "# Concatenate the two strings:\n",
    "\n",
    "# Print the result:"
   ]
  },
  {
   "cell_type": "markdown",
   "metadata": {
    "colab_type": "text",
    "id": "-9wQ6PQtzNi3"
   },
   "source": [
    "Question 15: Given below is a string. Perform the following operations and print the results:\n",
    "1. Remove the extra spaces from the string and print the new string.\n",
    "2. Find the length of new string\n",
    "3. Remove the last 5 characters of the new string\n",
    "4. Find the 15th character of the new string\n",
    "5. Compute the result of concatenation of the first and last letter of the new string.\n"
   ]
  },
  {
   "cell_type": "code",
   "execution_count": null,
   "metadata": {
    "colab": {},
    "colab_type": "code",
    "id": "T9GOWY_JyErD"
   },
   "outputs": [],
   "source": [
    "# Given below is the string:\n",
    "line= '     I hope you enjoyed this practice session.'\n",
    "\n",
    "# Removing extra spaces:\n",
    "\n",
    "# Print the result:\n",
    "\n",
    "# Calculate the length:\n",
    "\n",
    "# Slice the string to remove the last 5 characters:\n",
    "\n",
    "# Print the result:\n",
    "\n",
    "# Print the 15th character of the string:\n",
    "\n",
    "# Print the concatenation of first and last character of resulting string:"
   ]
  },
  {
   "cell_type": "code",
   "execution_count": null,
   "metadata": {},
   "outputs": [],
   "source": [
    "# Consider the string given below and answer the following questions \n",
    "string = \"OQYWFClFhFGAvIWYwGKpmZhnJiyzTslSIhSwvOsqJMEphzmifTkyqOMNpnOtXZxmCfgDYqbaBHAUvIWhMnvwZnEMVDvmEfLrDoQnAZgQEgXQVnmSYkfedpAdhrtpOgORpYLRZYGWdhWYuqQssCUXtTzKRDAhpjUheOzUroZNzWFtZOVwIapzUYtbSbjYNErzQ\""
   ]
  },
  {
   "cell_type": "markdown",
   "metadata": {},
   "source": [
    "##### Calculate the number of characters in the string\n",
    "\n",
    "-  193\n",
    "-  200\n",
    "-  300\n",
    "-  500\n"
   ]
  },
  {
   "cell_type": "markdown",
   "metadata": {},
   "source": [
    "##### Count the number of occurences of 'a' in the string\n",
    "\n",
    "-  1\n",
    "-  2\n",
    "-  10\n",
    "-  5"
   ]
  },
  {
   "cell_type": "markdown",
   "metadata": {},
   "source": [
    "##### Identify whether the string starts with 'if'.\n",
    "\n",
    "-  True\n",
    "-  False"
   ]
  },
  {
   "cell_type": "markdown",
   "metadata": {},
   "source": [
    "###### Return the substring starting at index 63 and ending at index 88  [Both the indexes are inclusive]\n",
    "\n",
    "-  'OQYWFClFhFGA'\n",
    "-  'mCfgDYqbaBHAUvIWhMnvwZnEMV'\n",
    "-  'IWYwGKpmZhnJiyzTslSIhSwv'\n",
    "-  'JMEphzmifTkyqOMNpnOtXZ'"
   ]
  },
  {
   "cell_type": "code",
   "execution_count": null,
   "metadata": {},
   "outputs": [],
   "source": []
  }
 ],
 "metadata": {
  "colab": {
   "name": "Basics_of_python.ipynb",
   "provenance": []
  },
  "kernelspec": {
   "display_name": "Python 3 (ipykernel)",
   "language": "python",
   "name": "python3"
  },
  "language_info": {
   "codemirror_mode": {
    "name": "ipython",
    "version": 3
   },
   "file_extension": ".py",
   "mimetype": "text/x-python",
   "name": "python",
   "nbconvert_exporter": "python",
   "pygments_lexer": "ipython3",
   "version": "3.9.13"
  }
 },
 "nbformat": 4,
 "nbformat_minor": 1
}
